{
 "cells": [
  {
   "cell_type": "code",
   "execution_count": 29,
   "id": "a4160610-91f3-4392-b04f-f70135e4371d",
   "metadata": {},
   "outputs": [],
   "source": [
    "import math\n",
    "import pandas as pd\n",
    "import numpy as np\n",
    "import matplotlib.pyplot as plt\n",
    "import scipy.stats as st\n",
    "import statsmodels.api as sm\n",
    "import statsmodels.formula.api as smf\n"
   ]
  },
  {
   "cell_type": "code",
   "execution_count": 56,
   "id": "ee704c97-5e30-47eb-9c1b-88c9914b1abf",
   "metadata": {},
   "outputs": [],
   "source": [
    "alpha = 0.05"
   ]
  },
  {
   "cell_type": "code",
   "execution_count": 46,
   "id": "d26c4a7b-c102-4644-afcf-8720ee6f67c9",
   "metadata": {},
   "outputs": [],
   "source": [
    "systolic_pressure = 120\n",
    "sample =100\n",
    "Honolulu_pressure = 130.1\n",
    "standardv = 21.21 "
   ]
  },
  {
   "cell_type": "code",
   "execution_count": 54,
   "id": "49e2408e-a63e-4c62-93a6-434c51b2d348",
   "metadata": {},
   "outputs": [
    {
     "name": "stdout",
     "output_type": "stream",
     "text": [
      "Test Statistic is: 4.76\n"
     ]
    }
   ],
   "source": [
    "# Calculate the test statistic\n",
    "test_stat = (Honolulu_pressure - systolic_pressure) / (standardv / (sample**0.5))\n",
    "print(f\"Test Statistic is: {test_stat:.2f}\")"
   ]
  },
  {
   "cell_type": "code",
   "execution_count": 58,
   "id": "2922f72c-bf87-46a3-940e-d46635d44dd9",
   "metadata": {},
   "outputs": [
    {
     "name": "stdout",
     "output_type": "stream",
     "text": [
      "Critical Value: -1.64\n"
     ]
    }
   ],
   "source": [
    "critical_value = st.norm.ppf(alpha)\n",
    "print(f\"Critical Value: {critical_value:.2f}\")"
   ]
  },
  {
   "cell_type": "code",
   "execution_count": 64,
   "id": "dc5e96c4-b74f-4f91-a2f2-c7301a69b942",
   "metadata": {},
   "outputs": [
    {
     "name": "stdout",
     "output_type": "stream",
     "text": [
      "P-Value: 1.0000\n",
      "Accept the Null Hypothesis.\n"
     ]
    }
   ],
   "source": [
    "p_value = st.norm.cdf(test_stat)  # lower-tailed test\n",
    "print(f\"P-Value: {p_value:.4f}\")\n",
    "\n",
    "if p_value < alpha:\n",
    "    print(\"Reject the Null Hypothesis.\")\n",
    "else:\n",
    "    print(\"Accept the Null Hypothesis.\")"
   ]
  },
  {
   "cell_type": "code",
   "execution_count": null,
   "id": "697e5b7f-3966-478e-98a4-41be5603c6ca",
   "metadata": {},
   "outputs": [],
   "source": []
  }
 ],
 "metadata": {
  "kernelspec": {
   "display_name": "Python 3 (ipykernel)",
   "language": "python",
   "name": "python3"
  },
  "language_info": {
   "codemirror_mode": {
    "name": "ipython",
    "version": 3
   },
   "file_extension": ".py",
   "mimetype": "text/x-python",
   "name": "python",
   "nbconvert_exporter": "python",
   "pygments_lexer": "ipython3",
   "version": "3.12.4"
  }
 },
 "nbformat": 4,
 "nbformat_minor": 5
}
